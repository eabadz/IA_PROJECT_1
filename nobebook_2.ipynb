{
  "nbformat": 4,
  "nbformat_minor": 0,
  "metadata": {
    "colab": {
      "provenance": []
    },
    "kernelspec": {
      "name": "python3",
      "display_name": "Python 3"
    },
    "language_info": {
      "name": "python"
    }
  },
  "cells": [
    {
      "cell_type": "code",
      "execution_count": 1,
      "metadata": {
        "id": "P8TfumQ8yHlI"
      },
      "outputs": [],
      "source": [
        "import pandas as pd\n",
        "import numpy as np\n",
        "import matplotlib.pyplot as plt\n",
        "import seaborn as sns\n",
        "from sklearn.model_selection import train_test_split\n",
        "from sklearn.linear_model import LinearRegression\n",
        "from sklearn.metrics import mean_squared_error\n",
        "from sklearn.impute import SimpleImputer"
      ]
    },
    {
      "cell_type": "code",
      "source": [
        "from google.colab import drive\n",
        "drive.mount('/content/drive')"
      ],
      "metadata": {
        "colab": {
          "base_uri": "https://localhost:8080/"
        },
        "id": "6ayElXsryOmI",
        "outputId": "b6ccd957-83af-41c6-bf58-48a99625ec7f"
      },
      "execution_count": 2,
      "outputs": [
        {
          "output_type": "stream",
          "name": "stdout",
          "text": [
            "Drive already mounted at /content/drive; to attempt to forcibly remount, call drive.mount(\"/content/drive\", force_remount=True).\n"
          ]
        }
      ]
    },
    {
      "cell_type": "code",
      "source": [
        "# Definir la ruta al archivo dentro de Google Drive\n",
        "file_path = '/content/drive/My Drive/IA_PROJECT_1_EDU/dataset_con_nan.csv'\n",
        "data = pd.read_csv(file_path)"
      ],
      "metadata": {
        "id": "U03b16a5yP5Y"
      },
      "execution_count": 3,
      "outputs": []
    },
    {
      "cell_type": "code",
      "source": [
        "# Convertir columnas específicas a tipo categórico\n",
        "categorical_columns = ['sex', 'cp', 'fbs', 'restecg', 'exang', 'slope', 'ca', 'thal']\n",
        "\n",
        "# Convertir a tipo categórico\n",
        "for col in categorical_columns:\n",
        "    data[col] = data[col].astype('category')\n",
        "\n",
        "# Verificar los cambios\n",
        "data.info()"
      ],
      "metadata": {
        "colab": {
          "base_uri": "https://localhost:8080/"
        },
        "id": "t5dQ7cOsydV0",
        "outputId": "fef635ed-bece-4e14-aff7-8360c85714b8"
      },
      "execution_count": 4,
      "outputs": [
        {
          "output_type": "stream",
          "name": "stdout",
          "text": [
            "<class 'pandas.core.frame.DataFrame'>\n",
            "RangeIndex: 732 entries, 0 to 731\n",
            "Data columns (total 14 columns):\n",
            " #   Column    Non-Null Count  Dtype   \n",
            "---  ------    --------------  -----   \n",
            " 0   age       732 non-null    float64 \n",
            " 1   sex       732 non-null    category\n",
            " 2   cp        732 non-null    category\n",
            " 3   trestbps  685 non-null    float64 \n",
            " 4   chol      576 non-null    float64 \n",
            " 5   fbs       666 non-null    category\n",
            " 6   restecg   732 non-null    category\n",
            " 7   thalach   688 non-null    float64 \n",
            " 8   exang     688 non-null    category\n",
            " 9   oldpeak   683 non-null    float64 \n",
            " 10  slope     485 non-null    category\n",
            " 11  ca        253 non-null    category\n",
            " 12  thal      353 non-null    category\n",
            " 13  label     732 non-null    int64   \n",
            "dtypes: category(8), float64(5), int64(1)\n",
            "memory usage: 41.3 KB\n"
          ]
        }
      ]
    },
    {
      "cell_type": "code",
      "source": [
        "# Calcular la moda de la columna 'ca'\n",
        "moda_ca = data['ca'].mode()[0]\n",
        "\n",
        "# Reemplazar los valores 9 en la columna 'ca' con la moda\n",
        "data['ca'] = data['ca'].replace(9, moda_ca)\n",
        "\n",
        "# Verificar el resultado\n",
        "print(data['ca'].unique())"
      ],
      "metadata": {
        "colab": {
          "base_uri": "https://localhost:8080/"
        },
        "id": "SpQTdG6Ayl60",
        "outputId": "c503c6b8-8279-4c51-98ac-bda88cbee8c2"
      },
      "execution_count": 5,
      "outputs": [
        {
          "output_type": "stream",
          "name": "stdout",
          "text": [
            "[1.0, NaN, 0.0, 2.0, 3.0]\n",
            "Categories (4, float64): [0.0, 1.0, 2.0, 3.0]\n"
          ]
        }
      ]
    },
    {
      "cell_type": "code",
      "source": [
        "# Contar los valores '?' y '-9' y '0' por separado en cada columna\n",
        "count_question_marks = (data == '?').sum()\n",
        "count_minus_nine = ((data == -9.0) | (data == '-9.0') | (data == '9.0') | (data == 9.0)).sum()  # Se compara tanto con -9 como con '-9.0' como texto\n",
        "count_0 =  ((data == 0) | (data == '0')).sum()  # Se compara tanto con -9 como con '-9.0' como texto\n",
        "\n",
        "# Crear un DataFrame con los resultados\n",
        "count_table = pd.DataFrame({\n",
        "    'Cuenta de \"?\":': count_question_marks,\n",
        "    'Cuenta de \"-9\":': count_minus_nine,\n",
        "    'Cuenta de \"0\"': count_0\n",
        "})\n",
        "\n",
        "# Mostrar la tabla\n",
        "print(count_table)"
      ],
      "metadata": {
        "colab": {
          "base_uri": "https://localhost:8080/"
        },
        "id": "zO2hoarFyqKf",
        "outputId": "5e64c2b1-1e9f-4e33-a76f-264b36c241ca"
      },
      "execution_count": 6,
      "outputs": [
        {
          "output_type": "stream",
          "name": "stdout",
          "text": [
            "          Cuenta de \"?\":  Cuenta de \"-9\":  Cuenta de \"0\"\n",
            "age                    0                0              0\n",
            "sex                    0                0            154\n",
            "cp                     0                0              0\n",
            "trestbps               0                0              0\n",
            "chol                   0                0              0\n",
            "fbs                    0                0            554\n",
            "restecg                0                0            439\n",
            "thalach                0                0              0\n",
            "exang                  0                0            422\n",
            "oldpeak                0                0            297\n",
            "slope                  0                0              0\n",
            "ca                     0                0            147\n",
            "thal                   0                0              0\n",
            "label                  0                0            327\n"
          ]
        }
      ]
    },
    {
      "cell_type": "markdown",
      "source": [
        "### Rellenamos con media y moda"
      ],
      "metadata": {
        "id": "ukHsl4F7ySP4"
      }
    },
    {
      "cell_type": "code",
      "source": [
        "# RELLENAMOS NUMERICOS CON MEDIA O CATEGORICOS CON MEDIANA\n",
        "\n",
        "# Rellenar NaN en columnas de tipo float con la media\n",
        "for col in data.select_dtypes(include=['float']):\n",
        "    data[col] = data[col].fillna(data[col].mean())\n",
        "\n",
        "# Rellenar NaN en columnas de tipo category con la moda\n",
        "for col in data.select_dtypes(include=['category']):\n",
        "    data[col] = data[col].fillna(data[col].mode()[0])"
      ],
      "metadata": {
        "id": "LaV0fJC3y4U4"
      },
      "execution_count": 7,
      "outputs": []
    },
    {
      "cell_type": "code",
      "source": [
        "data.info()"
      ],
      "metadata": {
        "colab": {
          "base_uri": "https://localhost:8080/"
        },
        "id": "s-hgzr5TzBKo",
        "outputId": "88e2de15-ebd2-4ea1-f9e6-799b8ad77e86"
      },
      "execution_count": 8,
      "outputs": [
        {
          "output_type": "stream",
          "name": "stdout",
          "text": [
            "<class 'pandas.core.frame.DataFrame'>\n",
            "RangeIndex: 732 entries, 0 to 731\n",
            "Data columns (total 14 columns):\n",
            " #   Column    Non-Null Count  Dtype   \n",
            "---  ------    --------------  -----   \n",
            " 0   age       732 non-null    float64 \n",
            " 1   sex       732 non-null    category\n",
            " 2   cp        732 non-null    category\n",
            " 3   trestbps  732 non-null    float64 \n",
            " 4   chol      732 non-null    float64 \n",
            " 5   fbs       732 non-null    category\n",
            " 6   restecg   732 non-null    category\n",
            " 7   thalach   732 non-null    float64 \n",
            " 8   exang     732 non-null    category\n",
            " 9   oldpeak   732 non-null    float64 \n",
            " 10  slope     732 non-null    category\n",
            " 11  ca        732 non-null    category\n",
            " 12  thal      732 non-null    category\n",
            " 13  label     732 non-null    int64   \n",
            "dtypes: category(8), float64(5), int64(1)\n",
            "memory usage: 41.3 KB\n"
          ]
        }
      ]
    },
    {
      "cell_type": "markdown",
      "source": [
        "PASAMOS TODAS LAS CATEGORICAS A ONE HOT ENCODING\n",
        "\n",
        "---\n"
      ],
      "metadata": {
        "id": "xlZwdLUd0Lu8"
      }
    },
    {
      "cell_type": "code",
      "source": [
        "import pandas as pd\n",
        "\n",
        "# Lista de columnas categóricas\n",
        "categorical_columns = ['sex', 'cp', 'fbs', 'restecg', 'exang', 'slope', 'ca', 'thal']\n",
        "\n",
        "# Aplicar One-Hot Encoding asegurando que los valores sean 0 y 1 (int)\n",
        "data_encoded = pd.get_dummies(data, columns=categorical_columns, drop_first=True, dtype=int)\n",
        "\n",
        "# Mostrar el resultado\n",
        "print(data_encoded.head())"
      ],
      "metadata": {
        "colab": {
          "base_uri": "https://localhost:8080/"
        },
        "id": "VejY-8mVzCZY",
        "outputId": "2bd733be-f3f2-444a-b017-6fc60e3953a6"
      },
      "execution_count": 9,
      "outputs": [
        {
          "output_type": "stream",
          "name": "stdout",
          "text": [
            "    age  trestbps        chol  thalach  oldpeak  label  sex_1.0  cp_2.0  \\\n",
            "0  51.0     125.0  213.000000    125.0      1.4      0        1       0   \n",
            "1  54.0     120.0  237.000000    150.0      1.5      2        1       0   \n",
            "2  63.0     140.0  246.821181    149.0      2.0      2        1       0   \n",
            "3  52.0     140.0  246.821181    140.0      0.0      0        0       1   \n",
            "4  55.0     140.0  217.000000    111.0      5.6      3        1       0   \n",
            "\n",
            "   cp_3.0  cp_4.0  ...  restecg_1.0  restecg_2.0  exang_1.0  slope_2.0  \\\n",
            "0       0       0  ...            0            1          1          0   \n",
            "1       1       0  ...            0            0          1          1   \n",
            "2       0       1  ...            0            1          0          0   \n",
            "3       0       0  ...            0            0          0          1   \n",
            "4       0       1  ...            0            0          1          0   \n",
            "\n",
            "   slope_3.0  ca_1.0  ca_2.0  ca_3.0  thal_6.0  thal_7.0  \n",
            "0          0       1       0       0         0         0  \n",
            "1          0       0       0       0         0         1  \n",
            "2          0       0       0       0         0         1  \n",
            "3          0       0       0       0         0         1  \n",
            "4          1       0       0       0         0         1  \n",
            "\n",
            "[5 rows x 21 columns]\n"
          ]
        }
      ]
    },
    {
      "cell_type": "markdown",
      "source": [
        "APLICAMOS AHORA SMOTE\n",
        "\n",
        "\n",
        "---\n",
        "\n"
      ],
      "metadata": {
        "id": "K_8ZHRrk0UPc"
      }
    },
    {
      "cell_type": "code",
      "source": [
        "import pandas as pd\n",
        "import numpy as np\n",
        "import matplotlib.pyplot as plt\n",
        "import seaborn as sns\n",
        "from google.colab import drive\n",
        "from sklearn.model_selection import train_test_split\n",
        "from sklearn.linear_model import LinearRegression\n",
        "from sklearn.metrics import mean_squared_error\n",
        "from sklearn.impute import SimpleImputer\n",
        "from sklearn.ensemble import RandomForestClassifier\n",
        "from sklearn.metrics import accuracy_score, f1_score, classification_report, roc_auc_score\n",
        "from sklearn.model_selection import GridSearchCV\n",
        "from sklearn.impute import KNNImputer\n",
        "from sklearn.utils import resample\n",
        "from imblearn.combine import SMOTEENN\n",
        "from imblearn.over_sampling import SMOTE\n",
        "from imblearn.under_sampling import RandomUnderSampler\n",
        "from collections import Counter\n",
        "\n",
        "\n",
        "def balancear_clases(data, target_col, estrategia=\"SMOTE\"):\n",
        "    \"\"\"\n",
        "    Balancea un DataFrame utilizando técnicas como submuestreo, sobremuestreo, o combinadas.\n",
        "\n",
        "    Parámetros:\n",
        "        df (pd.DataFrame): Conjunto de datos a balancear.\n",
        "        target_col (str): Nombre de la columna objetivo.\n",
        "        estrategia (str): Técnica a usar (\"submuestreo\", \"sobremuestreo\", \"combinado\").\n",
        "\n",
        "    Retorna:\n",
        "        pd.DataFrame: DataFrame balanceado.\n",
        "    \"\"\"\n",
        "    # Separar características (X) y objetivo (y)\n",
        "    X = data_encoded.drop(columns=[target_col])\n",
        "    y = data_encoded[target_col]\n",
        "\n",
        "    # Elegir estrategia\n",
        "    if estrategia == \"submuestreo\":\n",
        "        sampler = RandomUnderSampler(random_state=42)\n",
        "    elif estrategia == \"sobremuestreo\":\n",
        "        sampler = SMOTE(random_state=42)\n",
        "    elif estrategia == \"combinado\":\n",
        "        sampler = SMOTEENN(random_state=42)  # Combina SMOTE y edición de vecinos\n",
        "    else:\n",
        "        raise ValueError(\"Estrategia desconocida. Usa 'submuestreo', 'sobremuestreo' o 'combinado'.\")\n",
        "\n",
        "    # Aplicar balanceo\n",
        "    X_res, y_res = sampler.fit_resample(X, y)\n",
        "\n",
        "    # Reconstruir DataFrame balanceado\n",
        "    balanced_df = pd.concat([pd.DataFrame(X_res), pd.DataFrame(y_res, columns=[target_col])], axis=1)\n",
        "    return balanced_df\n",
        "\n",
        "\n",
        "balanced_data = balancear_clases(data_encoded, \"label\", estrategia=\"combinado\")\n",
        "balanced_data_sub = balancear_clases(data_encoded, \"label\", estrategia=\"submuestreo\")\n",
        "print(balanced_data[\"label\"].value_counts())\n",
        "print(balanced_data_sub[\"label\"].value_counts())"
      ],
      "metadata": {
        "colab": {
          "base_uri": "https://localhost:8080/"
        },
        "id": "SAP-oJW40EB9",
        "outputId": "24b4b79a-402a-4289-e03a-e134e9dd0959"
      },
      "execution_count": 10,
      "outputs": [
        {
          "output_type": "stream",
          "name": "stdout",
          "text": [
            "label\n",
            "4    214\n",
            "3    167\n",
            "2    149\n",
            "1     90\n",
            "0     57\n",
            "Name: count, dtype: int64\n",
            "label\n",
            "0    34\n",
            "1    34\n",
            "2    34\n",
            "3    34\n",
            "4    34\n",
            "Name: count, dtype: int64\n"
          ]
        }
      ]
    },
    {
      "cell_type": "markdown",
      "source": [
        "NORMALIZAMOS AHORA LAS VARIABLES NUMERICAS\n",
        "\n",
        "---\n",
        "\n"
      ],
      "metadata": {
        "id": "c4AlA9aC0e2A"
      }
    },
    {
      "cell_type": "code",
      "source": [
        "# Selección de Características\n",
        "X = balanced_data.drop(columns =['label'])\n",
        "y = balanced_data['label']\n",
        "\n",
        "len(X), len(y), X.iloc[0], y.iloc[0]"
      ],
      "metadata": {
        "colab": {
          "base_uri": "https://localhost:8080/"
        },
        "id": "HyHD7Ero0GOY",
        "outputId": "fe118c07-172f-48e4-bb43-6f50e85e873a"
      },
      "execution_count": 11,
      "outputs": [
        {
          "output_type": "execute_result",
          "data": {
            "text/plain": [
              "(677,\n",
              " 677,\n",
              " age             35.0\n",
              " trestbps       122.0\n",
              " chol           192.0\n",
              " thalach        174.0\n",
              " oldpeak          0.0\n",
              " sex_1.0          1.0\n",
              " cp_2.0           1.0\n",
              " cp_3.0           0.0\n",
              " cp_4.0           0.0\n",
              " fbs_1.0          0.0\n",
              " restecg_1.0      0.0\n",
              " restecg_2.0      0.0\n",
              " exang_1.0        0.0\n",
              " slope_2.0        0.0\n",
              " slope_3.0        0.0\n",
              " ca_1.0           0.0\n",
              " ca_2.0           0.0\n",
              " ca_3.0           0.0\n",
              " thal_6.0         0.0\n",
              " thal_7.0         0.0\n",
              " Name: 0, dtype: float64,\n",
              " 0)"
            ]
          },
          "metadata": {},
          "execution_count": 11
        }
      ]
    },
    {
      "cell_type": "code",
      "source": [
        "# Hacemos un split de los datos\n",
        "from sklearn.model_selection import train_test_split\n",
        "\n",
        "\n",
        "X_train, X_val_test, y_train, y_val_test = train_test_split(X, y, test_size=0.3, random_state=42)\n",
        "X_val, X_test, y_val, y_test = train_test_split(X_val_test, y_val_test, test_size=0.5, random_state=42)\n",
        "\n",
        "# Verificar\n",
        "print(X_train.shape, y_train.shape)\n",
        "print(X_val.shape, y_val.shape)\n",
        "print(X_test.shape, y_test.shape)"
      ],
      "metadata": {
        "colab": {
          "base_uri": "https://localhost:8080/"
        },
        "id": "RIuK0Vqs0gdM",
        "outputId": "195bd131-dda9-4a46-ad2a-315fbd819cbd"
      },
      "execution_count": 12,
      "outputs": [
        {
          "output_type": "stream",
          "name": "stdout",
          "text": [
            "(473, 20) (473,)\n",
            "(102, 20) (102,)\n",
            "(102, 20) (102,)\n"
          ]
        }
      ]
    },
    {
      "cell_type": "code",
      "source": [
        "from sklearn.preprocessing import StandardScaler\n",
        "# Normalizar las características\n",
        "scaler = StandardScaler()\n",
        "X_train = scaler.fit_transform(X_train)\n",
        "X_val = scaler.transform(X_val)"
      ],
      "metadata": {
        "id": "egWcf_3s0kns"
      },
      "execution_count": 13,
      "outputs": []
    },
    {
      "cell_type": "code",
      "source": [
        "X_train[0], y_train[0]"
      ],
      "metadata": {
        "colab": {
          "base_uri": "https://localhost:8080/"
        },
        "id": "CR8oMEo30mNp",
        "outputId": "56524811-e3ea-41d5-b3b2-8709867b90ae"
      },
      "execution_count": 14,
      "outputs": [
        {
          "output_type": "execute_result",
          "data": {
            "text/plain": [
              "(array([ 0.8658503 , -1.51783109, -0.01096867, -0.37186034, -0.93046994,\n",
              "         0.42025815, -0.18711211, -0.29556103,  0.79084104, -0.28268123,\n",
              "        -0.32821995, -0.31622777,  1.43924583,  0.72173425, -0.1392715 ,\n",
              "        -0.15430335, -0.1392715 , -0.06516352, -0.09235142, -1.74434373]),\n",
              " 0)"
            ]
          },
          "metadata": {},
          "execution_count": 14
        }
      ]
    },
    {
      "cell_type": "markdown",
      "source": [
        "# AHORA SERIA YA PROBAR LOS MODELOS"
      ],
      "metadata": {
        "id": "l5lvo5OV0zRs"
      }
    },
    {
      "cell_type": "markdown",
      "source": [
        "LOGISTIC REGRESSION"
      ],
      "metadata": {
        "id": "gPaGGPUh00vk"
      }
    },
    {
      "cell_type": "code",
      "source": [
        "# import pandas as pd\n",
        "# from sklearn.model_selection import train_test_split, GridSearchCV\n",
        "# from sklearn.preprocessing import StandardScaler, OneHotEncoder\n",
        "# from sklearn.compose import ColumnTransformer\n",
        "# from sklearn.pipeline import Pipeline\n",
        "# from sklearn.linear_model import LogisticRegression\n",
        "# from sklearn.metrics import classification_report, confusion_matrix, roc_auc_score\n",
        "# import matplotlib.pyplot as plt\n",
        "# from sklearn.metrics import accuracy_score, classification_report, confusion_matrix, f1_score , recall_score\n",
        "\n",
        "\n",
        "# # Implementación de Regresión Logística\n",
        "# model = LogisticRegression(max_iter=1000)\n",
        "# #model = LogisticRegression(C=0.1, penalty='l1', solver='liblinear', max_iter=1000)\n",
        "# model.fit(X_train, y_train)\n",
        "# # Predecir y Evaluar el Modelo\n",
        "# y_pred = model.predict(X_val)\n",
        "\n",
        "# len(y_pred), y_pred[0]\n",
        "\n",
        "\n",
        "# # Evaluar el modelo\n",
        "# accuracy = accuracy_score(y_val, y_pred)\n",
        "# f1 = f1_score(y_val, y_pred, average='weighted')\n",
        "# print(f\"Precisión del modelo: {accuracy}\")\n",
        "# print(f'F1-Score en el conjunto de validación: {f1}')"
      ],
      "metadata": {
        "id": "9dfHyKZg029A"
      },
      "execution_count": 15,
      "outputs": []
    },
    {
      "cell_type": "markdown",
      "source": [
        "RANDOM FOREST"
      ],
      "metadata": {
        "id": "_ET4ibrh09Y8"
      }
    },
    {
      "cell_type": "code",
      "source": [
        "from sklearn.metrics import accuracy_score, classification_report, confusion_matrix, f1_score, recall_score\n",
        "\n",
        "from sklearn.ensemble import RandomForestClassifier\n",
        "\n",
        "# Crear el modelo de Random Forest\n",
        "rf_model = RandomForestClassifier(n_estimators=100, random_state=42)\n",
        "\n",
        "# Entrenar el modelo\n",
        "rf_model.fit(X_train, y_train)\n",
        "\n",
        "# Hacer predicciones\n",
        "y_pred = rf_model.predict(X_val)\n",
        "\n",
        "# Evaluar el modelo\n",
        "accuracy = accuracy_score(y_val, y_pred)\n",
        "f1 = f1_score(y_val, y_pred, average='weighted')\n",
        "print(f\"Precisión del modelo: {accuracy}\")\n",
        "print(f'F1-Score en el conjunto de validación: {f1}')"
      ],
      "metadata": {
        "colab": {
          "base_uri": "https://localhost:8080/"
        },
        "id": "4sbGZzQ007r0",
        "outputId": "506432be-a1b3-4b13-a1ad-31be0336b83d"
      },
      "execution_count": 16,
      "outputs": [
        {
          "output_type": "stream",
          "name": "stdout",
          "text": [
            "Precisión del modelo: 0.7941176470588235\n",
            "F1-Score en el conjunto de validación: 0.7925853963282182\n"
          ]
        }
      ]
    },
    {
      "cell_type": "markdown",
      "source": [
        "XGBOOST"
      ],
      "metadata": {
        "id": "g_30CVpv1BgI"
      }
    },
    {
      "cell_type": "code",
      "source": [
        "# from xgboost import XGBClassifier\n",
        "\n",
        "# # Crear el modelo de XGBoost\n",
        "# xgb_model = XGBClassifier(n_estimators=100, learning_rate=0.1, random_state=42, use_label_encoder=True)\n",
        "\n",
        "# # Entrenar el modelo\n",
        "# xgb_model.fit(X_train, y_train)\n",
        "\n",
        "# # Hacer predicciones\n",
        "# y_pred = xgb_model.predict(X_val)\n",
        "# print(y_pred)\n",
        "# # Evaluar el modelo\n",
        "# accuracy = accuracy_score(y_val, y_pred)\n",
        "# f1 = f1_score(y_val, y_pred, average='weighted')\n",
        "# recall = recall_score(y_val, y_pred, average='macro')\n",
        "\n",
        "# print(f\"Precisión del modelo: {accuracy}\")\n",
        "# print(f'F1-Score en el conjunto de validación: {f1}')\n",
        "# print(\"Recall:\", recall)"
      ],
      "metadata": {
        "id": "fOdVjzKY0_g0"
      },
      "execution_count": 17,
      "outputs": []
    },
    {
      "cell_type": "markdown",
      "source": [
        "SVM"
      ],
      "metadata": {
        "id": "YTn3hgMl1Dzw"
      }
    },
    {
      "cell_type": "code",
      "source": [
        "# from sklearn.svm import SVC\n",
        "# from sklearn.metrics import accuracy_score, f1_score, recall_score, classification_report\n",
        "\n",
        "# # Crear el modelo de SVM\n",
        "# svm_model = SVC(kernel='rbf', C=1, random_state=42)\n",
        "\n",
        "# # Entrenar el modelo\n",
        "# svm_model.fit(X_train, y_train)\n",
        "\n",
        "# # Hacer predicciones\n",
        "# y_pred = svm_model.predict(X_val)\n",
        "# print(y_pred)\n",
        "# # Evaluar el modelo\n",
        "# accuracy = accuracy_score(y_val, y_pred)\n",
        "# f1 = f1_score(y_val, y_pred, average='macro')  # 'macro' para considerar cada clase por igual\n",
        "# recall = recall_score(y_val, y_pred, average='macro')\n",
        "\n",
        "# print(\"Accuracy:\", accuracy)\n",
        "# print(\"F1 Score:\", f1)\n",
        "# print(\"Recall:\", recall)"
      ],
      "metadata": {
        "id": "XVzjaTJO1Fhc"
      },
      "execution_count": 18,
      "outputs": []
    },
    {
      "cell_type": "markdown",
      "source": [
        "KNN"
      ],
      "metadata": {
        "id": "pwF6_8Sd1JCW"
      }
    },
    {
      "cell_type": "code",
      "source": [
        "# from sklearn.neighbors import KNeighborsClassifier\n",
        "# from sklearn.metrics import accuracy_score, f1_score, recall_score\n",
        "\n",
        "# # Crear el modelo de KNN\n",
        "# knn_model = KNeighborsClassifier(n_neighbors=5)  # n_neighbors es el número de vecinos\n",
        "\n",
        "# # Entrenar el modelo\n",
        "# knn_model.fit(X_train, y_train)\n",
        "\n",
        "# # Hacer predicciones en X_val\n",
        "# y_pred = knn_model.predict(X_val)\n",
        "\n",
        "# # Evaluar el modelo\n",
        "# accuracy = accuracy_score(y_val, y_pred)\n",
        "# f1 = f1_score(y_val, y_pred, average='macro')  # 'macro' para considerar cada clase por igual\n",
        "# recall = recall_score(y_val, y_pred, average='macro')\n",
        "\n",
        "# print(\"Accuracy:\", accuracy)\n",
        "# print(\"F1 Score:\", f1)\n",
        "# print(\"Recall:\", recall)"
      ],
      "metadata": {
        "id": "QyvdS0mN1J98"
      },
      "execution_count": 19,
      "outputs": []
    },
    {
      "cell_type": "markdown",
      "source": [
        "# HACEMOS AHORA LO MISMO CON EL TEST"
      ],
      "metadata": {
        "id": "Tpzc14av1THI"
      }
    },
    {
      "cell_type": "code",
      "source": [
        "print(rf_model)"
      ],
      "metadata": {
        "colab": {
          "base_uri": "https://localhost:8080/"
        },
        "id": "MxWPAt_26G53",
        "outputId": "46772791-a8bd-4d0a-cbc2-a025cf49543d"
      },
      "execution_count": 20,
      "outputs": [
        {
          "output_type": "stream",
          "name": "stdout",
          "text": [
            "RandomForestClassifier(random_state=42)\n"
          ]
        }
      ]
    },
    {
      "cell_type": "code",
      "source": [
        "# Definir la ruta al archivo dentro de Google Drive\n",
        "file_path = '/content/drive/MyDrive/IA_PROJECT_1_EDU/dataset_con_nan_test.csv'\n",
        "data_test = pd.read_csv(file_path)"
      ],
      "metadata": {
        "id": "Y9IU3Enr1r1l"
      },
      "execution_count": 21,
      "outputs": []
    },
    {
      "cell_type": "code",
      "source": [
        "data_test"
      ],
      "metadata": {
        "colab": {
          "base_uri": "https://localhost:8080/",
          "height": 424
        },
        "id": "p1wlcN8-3lVg",
        "outputId": "23a99e7c-974a-4c0d-f39b-96254e8df47f"
      },
      "execution_count": 22,
      "outputs": [
        {
          "output_type": "execute_result",
          "data": {
            "text/plain": [
              "      age  sex   cp  trestbps   chol  fbs  restecg  thalach  exang  oldpeak  \\\n",
              "0    57.0  1.0  4.0     156.0  173.0  0.0      2.0    119.0    1.0      3.0   \n",
              "1    52.0  1.0  2.0     160.0  196.0  0.0      0.0    165.0    0.0      0.0   \n",
              "2    48.0  1.0  2.0     100.0    NaN  0.0      0.0    100.0    0.0      0.0   \n",
              "3    62.0  1.0  4.0     115.0    NaN  NaN      0.0    128.0    1.0      2.5   \n",
              "4    51.0  1.0  3.0     110.0  175.0  0.0      0.0    123.0    0.0      0.6   \n",
              "..    ...  ...  ...       ...    ...  ...      ...      ...    ...      ...   \n",
              "179  54.0  1.0  4.0     200.0  198.0  0.0      0.0    142.0    1.0      2.0   \n",
              "180  55.0  1.0  2.0     110.0  214.0  1.0      1.0    180.0    0.0      NaN   \n",
              "181  67.0  1.0  3.0     152.0  212.0  0.0      2.0    150.0    0.0      0.8   \n",
              "182  59.0  1.0  1.0     170.0  288.0  0.0      2.0    159.0    0.0      0.2   \n",
              "183  58.0  1.0  4.0       NaN  203.0  1.0      0.0      NaN    NaN      NaN   \n",
              "\n",
              "     slope   ca  thal  \n",
              "0      3.0  NaN   NaN  \n",
              "1      NaN  NaN   NaN  \n",
              "2      NaN  NaN   NaN  \n",
              "3      3.0  NaN   NaN  \n",
              "4      1.0  0.0   3.0  \n",
              "..     ...  ...   ...  \n",
              "179    2.0  NaN   NaN  \n",
              "180    NaN  NaN   NaN  \n",
              "181    2.0  0.0   7.0  \n",
              "182    2.0  0.0   7.0  \n",
              "183    NaN  NaN   NaN  \n",
              "\n",
              "[184 rows x 13 columns]"
            ],
            "text/html": [
              "\n",
              "  <div id=\"df-b8387d58-3195-46bb-8a48-13d55233ea3d\" class=\"colab-df-container\">\n",
              "    <div>\n",
              "<style scoped>\n",
              "    .dataframe tbody tr th:only-of-type {\n",
              "        vertical-align: middle;\n",
              "    }\n",
              "\n",
              "    .dataframe tbody tr th {\n",
              "        vertical-align: top;\n",
              "    }\n",
              "\n",
              "    .dataframe thead th {\n",
              "        text-align: right;\n",
              "    }\n",
              "</style>\n",
              "<table border=\"1\" class=\"dataframe\">\n",
              "  <thead>\n",
              "    <tr style=\"text-align: right;\">\n",
              "      <th></th>\n",
              "      <th>age</th>\n",
              "      <th>sex</th>\n",
              "      <th>cp</th>\n",
              "      <th>trestbps</th>\n",
              "      <th>chol</th>\n",
              "      <th>fbs</th>\n",
              "      <th>restecg</th>\n",
              "      <th>thalach</th>\n",
              "      <th>exang</th>\n",
              "      <th>oldpeak</th>\n",
              "      <th>slope</th>\n",
              "      <th>ca</th>\n",
              "      <th>thal</th>\n",
              "    </tr>\n",
              "  </thead>\n",
              "  <tbody>\n",
              "    <tr>\n",
              "      <th>0</th>\n",
              "      <td>57.0</td>\n",
              "      <td>1.0</td>\n",
              "      <td>4.0</td>\n",
              "      <td>156.0</td>\n",
              "      <td>173.0</td>\n",
              "      <td>0.0</td>\n",
              "      <td>2.0</td>\n",
              "      <td>119.0</td>\n",
              "      <td>1.0</td>\n",
              "      <td>3.0</td>\n",
              "      <td>3.0</td>\n",
              "      <td>NaN</td>\n",
              "      <td>NaN</td>\n",
              "    </tr>\n",
              "    <tr>\n",
              "      <th>1</th>\n",
              "      <td>52.0</td>\n",
              "      <td>1.0</td>\n",
              "      <td>2.0</td>\n",
              "      <td>160.0</td>\n",
              "      <td>196.0</td>\n",
              "      <td>0.0</td>\n",
              "      <td>0.0</td>\n",
              "      <td>165.0</td>\n",
              "      <td>0.0</td>\n",
              "      <td>0.0</td>\n",
              "      <td>NaN</td>\n",
              "      <td>NaN</td>\n",
              "      <td>NaN</td>\n",
              "    </tr>\n",
              "    <tr>\n",
              "      <th>2</th>\n",
              "      <td>48.0</td>\n",
              "      <td>1.0</td>\n",
              "      <td>2.0</td>\n",
              "      <td>100.0</td>\n",
              "      <td>NaN</td>\n",
              "      <td>0.0</td>\n",
              "      <td>0.0</td>\n",
              "      <td>100.0</td>\n",
              "      <td>0.0</td>\n",
              "      <td>0.0</td>\n",
              "      <td>NaN</td>\n",
              "      <td>NaN</td>\n",
              "      <td>NaN</td>\n",
              "    </tr>\n",
              "    <tr>\n",
              "      <th>3</th>\n",
              "      <td>62.0</td>\n",
              "      <td>1.0</td>\n",
              "      <td>4.0</td>\n",
              "      <td>115.0</td>\n",
              "      <td>NaN</td>\n",
              "      <td>NaN</td>\n",
              "      <td>0.0</td>\n",
              "      <td>128.0</td>\n",
              "      <td>1.0</td>\n",
              "      <td>2.5</td>\n",
              "      <td>3.0</td>\n",
              "      <td>NaN</td>\n",
              "      <td>NaN</td>\n",
              "    </tr>\n",
              "    <tr>\n",
              "      <th>4</th>\n",
              "      <td>51.0</td>\n",
              "      <td>1.0</td>\n",
              "      <td>3.0</td>\n",
              "      <td>110.0</td>\n",
              "      <td>175.0</td>\n",
              "      <td>0.0</td>\n",
              "      <td>0.0</td>\n",
              "      <td>123.0</td>\n",
              "      <td>0.0</td>\n",
              "      <td>0.6</td>\n",
              "      <td>1.0</td>\n",
              "      <td>0.0</td>\n",
              "      <td>3.0</td>\n",
              "    </tr>\n",
              "    <tr>\n",
              "      <th>...</th>\n",
              "      <td>...</td>\n",
              "      <td>...</td>\n",
              "      <td>...</td>\n",
              "      <td>...</td>\n",
              "      <td>...</td>\n",
              "      <td>...</td>\n",
              "      <td>...</td>\n",
              "      <td>...</td>\n",
              "      <td>...</td>\n",
              "      <td>...</td>\n",
              "      <td>...</td>\n",
              "      <td>...</td>\n",
              "      <td>...</td>\n",
              "    </tr>\n",
              "    <tr>\n",
              "      <th>179</th>\n",
              "      <td>54.0</td>\n",
              "      <td>1.0</td>\n",
              "      <td>4.0</td>\n",
              "      <td>200.0</td>\n",
              "      <td>198.0</td>\n",
              "      <td>0.0</td>\n",
              "      <td>0.0</td>\n",
              "      <td>142.0</td>\n",
              "      <td>1.0</td>\n",
              "      <td>2.0</td>\n",
              "      <td>2.0</td>\n",
              "      <td>NaN</td>\n",
              "      <td>NaN</td>\n",
              "    </tr>\n",
              "    <tr>\n",
              "      <th>180</th>\n",
              "      <td>55.0</td>\n",
              "      <td>1.0</td>\n",
              "      <td>2.0</td>\n",
              "      <td>110.0</td>\n",
              "      <td>214.0</td>\n",
              "      <td>1.0</td>\n",
              "      <td>1.0</td>\n",
              "      <td>180.0</td>\n",
              "      <td>0.0</td>\n",
              "      <td>NaN</td>\n",
              "      <td>NaN</td>\n",
              "      <td>NaN</td>\n",
              "      <td>NaN</td>\n",
              "    </tr>\n",
              "    <tr>\n",
              "      <th>181</th>\n",
              "      <td>67.0</td>\n",
              "      <td>1.0</td>\n",
              "      <td>3.0</td>\n",
              "      <td>152.0</td>\n",
              "      <td>212.0</td>\n",
              "      <td>0.0</td>\n",
              "      <td>2.0</td>\n",
              "      <td>150.0</td>\n",
              "      <td>0.0</td>\n",
              "      <td>0.8</td>\n",
              "      <td>2.0</td>\n",
              "      <td>0.0</td>\n",
              "      <td>7.0</td>\n",
              "    </tr>\n",
              "    <tr>\n",
              "      <th>182</th>\n",
              "      <td>59.0</td>\n",
              "      <td>1.0</td>\n",
              "      <td>1.0</td>\n",
              "      <td>170.0</td>\n",
              "      <td>288.0</td>\n",
              "      <td>0.0</td>\n",
              "      <td>2.0</td>\n",
              "      <td>159.0</td>\n",
              "      <td>0.0</td>\n",
              "      <td>0.2</td>\n",
              "      <td>2.0</td>\n",
              "      <td>0.0</td>\n",
              "      <td>7.0</td>\n",
              "    </tr>\n",
              "    <tr>\n",
              "      <th>183</th>\n",
              "      <td>58.0</td>\n",
              "      <td>1.0</td>\n",
              "      <td>4.0</td>\n",
              "      <td>NaN</td>\n",
              "      <td>203.0</td>\n",
              "      <td>1.0</td>\n",
              "      <td>0.0</td>\n",
              "      <td>NaN</td>\n",
              "      <td>NaN</td>\n",
              "      <td>NaN</td>\n",
              "      <td>NaN</td>\n",
              "      <td>NaN</td>\n",
              "      <td>NaN</td>\n",
              "    </tr>\n",
              "  </tbody>\n",
              "</table>\n",
              "<p>184 rows × 13 columns</p>\n",
              "</div>\n",
              "    <div class=\"colab-df-buttons\">\n",
              "\n",
              "  <div class=\"colab-df-container\">\n",
              "    <button class=\"colab-df-convert\" onclick=\"convertToInteractive('df-b8387d58-3195-46bb-8a48-13d55233ea3d')\"\n",
              "            title=\"Convert this dataframe to an interactive table.\"\n",
              "            style=\"display:none;\">\n",
              "\n",
              "  <svg xmlns=\"http://www.w3.org/2000/svg\" height=\"24px\" viewBox=\"0 -960 960 960\">\n",
              "    <path d=\"M120-120v-720h720v720H120Zm60-500h600v-160H180v160Zm220 220h160v-160H400v160Zm0 220h160v-160H400v160ZM180-400h160v-160H180v160Zm440 0h160v-160H620v160ZM180-180h160v-160H180v160Zm440 0h160v-160H620v160Z\"/>\n",
              "  </svg>\n",
              "    </button>\n",
              "\n",
              "  <style>\n",
              "    .colab-df-container {\n",
              "      display:flex;\n",
              "      gap: 12px;\n",
              "    }\n",
              "\n",
              "    .colab-df-convert {\n",
              "      background-color: #E8F0FE;\n",
              "      border: none;\n",
              "      border-radius: 50%;\n",
              "      cursor: pointer;\n",
              "      display: none;\n",
              "      fill: #1967D2;\n",
              "      height: 32px;\n",
              "      padding: 0 0 0 0;\n",
              "      width: 32px;\n",
              "    }\n",
              "\n",
              "    .colab-df-convert:hover {\n",
              "      background-color: #E2EBFA;\n",
              "      box-shadow: 0px 1px 2px rgba(60, 64, 67, 0.3), 0px 1px 3px 1px rgba(60, 64, 67, 0.15);\n",
              "      fill: #174EA6;\n",
              "    }\n",
              "\n",
              "    .colab-df-buttons div {\n",
              "      margin-bottom: 4px;\n",
              "    }\n",
              "\n",
              "    [theme=dark] .colab-df-convert {\n",
              "      background-color: #3B4455;\n",
              "      fill: #D2E3FC;\n",
              "    }\n",
              "\n",
              "    [theme=dark] .colab-df-convert:hover {\n",
              "      background-color: #434B5C;\n",
              "      box-shadow: 0px 1px 3px 1px rgba(0, 0, 0, 0.15);\n",
              "      filter: drop-shadow(0px 1px 2px rgba(0, 0, 0, 0.3));\n",
              "      fill: #FFFFFF;\n",
              "    }\n",
              "  </style>\n",
              "\n",
              "    <script>\n",
              "      const buttonEl =\n",
              "        document.querySelector('#df-b8387d58-3195-46bb-8a48-13d55233ea3d button.colab-df-convert');\n",
              "      buttonEl.style.display =\n",
              "        google.colab.kernel.accessAllowed ? 'block' : 'none';\n",
              "\n",
              "      async function convertToInteractive(key) {\n",
              "        const element = document.querySelector('#df-b8387d58-3195-46bb-8a48-13d55233ea3d');\n",
              "        const dataTable =\n",
              "          await google.colab.kernel.invokeFunction('convertToInteractive',\n",
              "                                                    [key], {});\n",
              "        if (!dataTable) return;\n",
              "\n",
              "        const docLinkHtml = 'Like what you see? Visit the ' +\n",
              "          '<a target=\"_blank\" href=https://colab.research.google.com/notebooks/data_table.ipynb>data table notebook</a>'\n",
              "          + ' to learn more about interactive tables.';\n",
              "        element.innerHTML = '';\n",
              "        dataTable['output_type'] = 'display_data';\n",
              "        await google.colab.output.renderOutput(dataTable, element);\n",
              "        const docLink = document.createElement('div');\n",
              "        docLink.innerHTML = docLinkHtml;\n",
              "        element.appendChild(docLink);\n",
              "      }\n",
              "    </script>\n",
              "  </div>\n",
              "\n",
              "\n",
              "<div id=\"df-7eaa4442-e615-4aa3-8110-c1e082646a62\">\n",
              "  <button class=\"colab-df-quickchart\" onclick=\"quickchart('df-7eaa4442-e615-4aa3-8110-c1e082646a62')\"\n",
              "            title=\"Suggest charts\"\n",
              "            style=\"display:none;\">\n",
              "\n",
              "<svg xmlns=\"http://www.w3.org/2000/svg\" height=\"24px\"viewBox=\"0 0 24 24\"\n",
              "     width=\"24px\">\n",
              "    <g>\n",
              "        <path d=\"M19 3H5c-1.1 0-2 .9-2 2v14c0 1.1.9 2 2 2h14c1.1 0 2-.9 2-2V5c0-1.1-.9-2-2-2zM9 17H7v-7h2v7zm4 0h-2V7h2v10zm4 0h-2v-4h2v4z\"/>\n",
              "    </g>\n",
              "</svg>\n",
              "  </button>\n",
              "\n",
              "<style>\n",
              "  .colab-df-quickchart {\n",
              "      --bg-color: #E8F0FE;\n",
              "      --fill-color: #1967D2;\n",
              "      --hover-bg-color: #E2EBFA;\n",
              "      --hover-fill-color: #174EA6;\n",
              "      --disabled-fill-color: #AAA;\n",
              "      --disabled-bg-color: #DDD;\n",
              "  }\n",
              "\n",
              "  [theme=dark] .colab-df-quickchart {\n",
              "      --bg-color: #3B4455;\n",
              "      --fill-color: #D2E3FC;\n",
              "      --hover-bg-color: #434B5C;\n",
              "      --hover-fill-color: #FFFFFF;\n",
              "      --disabled-bg-color: #3B4455;\n",
              "      --disabled-fill-color: #666;\n",
              "  }\n",
              "\n",
              "  .colab-df-quickchart {\n",
              "    background-color: var(--bg-color);\n",
              "    border: none;\n",
              "    border-radius: 50%;\n",
              "    cursor: pointer;\n",
              "    display: none;\n",
              "    fill: var(--fill-color);\n",
              "    height: 32px;\n",
              "    padding: 0;\n",
              "    width: 32px;\n",
              "  }\n",
              "\n",
              "  .colab-df-quickchart:hover {\n",
              "    background-color: var(--hover-bg-color);\n",
              "    box-shadow: 0 1px 2px rgba(60, 64, 67, 0.3), 0 1px 3px 1px rgba(60, 64, 67, 0.15);\n",
              "    fill: var(--button-hover-fill-color);\n",
              "  }\n",
              "\n",
              "  .colab-df-quickchart-complete:disabled,\n",
              "  .colab-df-quickchart-complete:disabled:hover {\n",
              "    background-color: var(--disabled-bg-color);\n",
              "    fill: var(--disabled-fill-color);\n",
              "    box-shadow: none;\n",
              "  }\n",
              "\n",
              "  .colab-df-spinner {\n",
              "    border: 2px solid var(--fill-color);\n",
              "    border-color: transparent;\n",
              "    border-bottom-color: var(--fill-color);\n",
              "    animation:\n",
              "      spin 1s steps(1) infinite;\n",
              "  }\n",
              "\n",
              "  @keyframes spin {\n",
              "    0% {\n",
              "      border-color: transparent;\n",
              "      border-bottom-color: var(--fill-color);\n",
              "      border-left-color: var(--fill-color);\n",
              "    }\n",
              "    20% {\n",
              "      border-color: transparent;\n",
              "      border-left-color: var(--fill-color);\n",
              "      border-top-color: var(--fill-color);\n",
              "    }\n",
              "    30% {\n",
              "      border-color: transparent;\n",
              "      border-left-color: var(--fill-color);\n",
              "      border-top-color: var(--fill-color);\n",
              "      border-right-color: var(--fill-color);\n",
              "    }\n",
              "    40% {\n",
              "      border-color: transparent;\n",
              "      border-right-color: var(--fill-color);\n",
              "      border-top-color: var(--fill-color);\n",
              "    }\n",
              "    60% {\n",
              "      border-color: transparent;\n",
              "      border-right-color: var(--fill-color);\n",
              "    }\n",
              "    80% {\n",
              "      border-color: transparent;\n",
              "      border-right-color: var(--fill-color);\n",
              "      border-bottom-color: var(--fill-color);\n",
              "    }\n",
              "    90% {\n",
              "      border-color: transparent;\n",
              "      border-bottom-color: var(--fill-color);\n",
              "    }\n",
              "  }\n",
              "</style>\n",
              "\n",
              "  <script>\n",
              "    async function quickchart(key) {\n",
              "      const quickchartButtonEl =\n",
              "        document.querySelector('#' + key + ' button');\n",
              "      quickchartButtonEl.disabled = true;  // To prevent multiple clicks.\n",
              "      quickchartButtonEl.classList.add('colab-df-spinner');\n",
              "      try {\n",
              "        const charts = await google.colab.kernel.invokeFunction(\n",
              "            'suggestCharts', [key], {});\n",
              "      } catch (error) {\n",
              "        console.error('Error during call to suggestCharts:', error);\n",
              "      }\n",
              "      quickchartButtonEl.classList.remove('colab-df-spinner');\n",
              "      quickchartButtonEl.classList.add('colab-df-quickchart-complete');\n",
              "    }\n",
              "    (() => {\n",
              "      let quickchartButtonEl =\n",
              "        document.querySelector('#df-7eaa4442-e615-4aa3-8110-c1e082646a62 button');\n",
              "      quickchartButtonEl.style.display =\n",
              "        google.colab.kernel.accessAllowed ? 'block' : 'none';\n",
              "    })();\n",
              "  </script>\n",
              "</div>\n",
              "\n",
              "  <div id=\"id_0054f14f-ab5f-4039-b8ad-422d3fef0cc5\">\n",
              "    <style>\n",
              "      .colab-df-generate {\n",
              "        background-color: #E8F0FE;\n",
              "        border: none;\n",
              "        border-radius: 50%;\n",
              "        cursor: pointer;\n",
              "        display: none;\n",
              "        fill: #1967D2;\n",
              "        height: 32px;\n",
              "        padding: 0 0 0 0;\n",
              "        width: 32px;\n",
              "      }\n",
              "\n",
              "      .colab-df-generate:hover {\n",
              "        background-color: #E2EBFA;\n",
              "        box-shadow: 0px 1px 2px rgba(60, 64, 67, 0.3), 0px 1px 3px 1px rgba(60, 64, 67, 0.15);\n",
              "        fill: #174EA6;\n",
              "      }\n",
              "\n",
              "      [theme=dark] .colab-df-generate {\n",
              "        background-color: #3B4455;\n",
              "        fill: #D2E3FC;\n",
              "      }\n",
              "\n",
              "      [theme=dark] .colab-df-generate:hover {\n",
              "        background-color: #434B5C;\n",
              "        box-shadow: 0px 1px 3px 1px rgba(0, 0, 0, 0.15);\n",
              "        filter: drop-shadow(0px 1px 2px rgba(0, 0, 0, 0.3));\n",
              "        fill: #FFFFFF;\n",
              "      }\n",
              "    </style>\n",
              "    <button class=\"colab-df-generate\" onclick=\"generateWithVariable('data_test')\"\n",
              "            title=\"Generate code using this dataframe.\"\n",
              "            style=\"display:none;\">\n",
              "\n",
              "  <svg xmlns=\"http://www.w3.org/2000/svg\" height=\"24px\"viewBox=\"0 0 24 24\"\n",
              "       width=\"24px\">\n",
              "    <path d=\"M7,19H8.4L18.45,9,17,7.55,7,17.6ZM5,21V16.75L18.45,3.32a2,2,0,0,1,2.83,0l1.4,1.43a1.91,1.91,0,0,1,.58,1.4,1.91,1.91,0,0,1-.58,1.4L9.25,21ZM18.45,9,17,7.55Zm-12,3A5.31,5.31,0,0,0,4.9,8.1,5.31,5.31,0,0,0,1,6.5,5.31,5.31,0,0,0,4.9,4.9,5.31,5.31,0,0,0,6.5,1,5.31,5.31,0,0,0,8.1,4.9,5.31,5.31,0,0,0,12,6.5,5.46,5.46,0,0,0,6.5,12Z\"/>\n",
              "  </svg>\n",
              "    </button>\n",
              "    <script>\n",
              "      (() => {\n",
              "      const buttonEl =\n",
              "        document.querySelector('#id_0054f14f-ab5f-4039-b8ad-422d3fef0cc5 button.colab-df-generate');\n",
              "      buttonEl.style.display =\n",
              "        google.colab.kernel.accessAllowed ? 'block' : 'none';\n",
              "\n",
              "      buttonEl.onclick = () => {\n",
              "        google.colab.notebook.generateWithVariable('data_test');\n",
              "      }\n",
              "      })();\n",
              "    </script>\n",
              "  </div>\n",
              "\n",
              "    </div>\n",
              "  </div>\n"
            ],
            "application/vnd.google.colaboratory.intrinsic+json": {
              "type": "dataframe",
              "variable_name": "data_test",
              "summary": "{\n  \"name\": \"data_test\",\n  \"rows\": 184,\n  \"fields\": [\n    {\n      \"column\": \"age\",\n      \"properties\": {\n        \"dtype\": \"number\",\n        \"std\": 9.747938417813357,\n        \"min\": 29.0,\n        \"max\": 77.0,\n        \"num_unique_values\": 41,\n        \"samples\": [\n          39.0,\n          50.0,\n          70.0\n        ],\n        \"semantic_type\": \"\",\n        \"description\": \"\"\n      }\n    },\n    {\n      \"column\": \"sex\",\n      \"properties\": {\n        \"dtype\": \"number\",\n        \"std\": 0.4135964337111927,\n        \"min\": 0.0,\n        \"max\": 1.0,\n        \"num_unique_values\": 2,\n        \"samples\": [\n          0.0,\n          1.0\n        ],\n        \"semantic_type\": \"\",\n        \"description\": \"\"\n      }\n    },\n    {\n      \"column\": \"cp\",\n      \"properties\": {\n        \"dtype\": \"number\",\n        \"std\": 0.937570778194636,\n        \"min\": 1.0,\n        \"max\": 4.0,\n        \"num_unique_values\": 4,\n        \"samples\": [\n          2.0,\n          1.0\n        ],\n        \"semantic_type\": \"\",\n        \"description\": \"\"\n      }\n    },\n    {\n      \"column\": \"trestbps\",\n      \"properties\": {\n        \"dtype\": \"number\",\n        \"std\": 18.515469840622792,\n        \"min\": 80.0,\n        \"max\": 200.0,\n        \"num_unique_values\": 38,\n        \"samples\": [\n          136.0,\n          122.0\n        ],\n        \"semantic_type\": \"\",\n        \"description\": \"\"\n      }\n    },\n    {\n      \"column\": \"chol\",\n      \"properties\": {\n        \"dtype\": \"number\",\n        \"std\": 52.469853218966946,\n        \"min\": 149.0,\n        \"max\": 407.0,\n        \"num_unique_values\": 96,\n        \"samples\": [\n          149.0,\n          160.0\n        ],\n        \"semantic_type\": \"\",\n        \"description\": \"\"\n      }\n    },\n    {\n      \"column\": \"fbs\",\n      \"properties\": {\n        \"dtype\": \"number\",\n        \"std\": 0.3633009463788272,\n        \"min\": 0.0,\n        \"max\": 1.0,\n        \"num_unique_values\": 2,\n        \"samples\": [\n          1.0,\n          0.0\n        ],\n        \"semantic_type\": \"\",\n        \"description\": \"\"\n      }\n    },\n    {\n      \"column\": \"restecg\",\n      \"properties\": {\n        \"dtype\": \"number\",\n        \"std\": 0.8186439326165761,\n        \"min\": 0.0,\n        \"max\": 2.0,\n        \"num_unique_values\": 3,\n        \"samples\": [\n          2.0,\n          0.0\n        ],\n        \"semantic_type\": \"\",\n        \"description\": \"\"\n      }\n    },\n    {\n      \"column\": \"thalach\",\n      \"properties\": {\n        \"dtype\": \"number\",\n        \"std\": 25.780163241850282,\n        \"min\": 67.0,\n        \"max\": 188.0,\n        \"num_unique_values\": 81,\n        \"samples\": [\n          158.0,\n          119.0\n        ],\n        \"semantic_type\": \"\",\n        \"description\": \"\"\n      }\n    },\n    {\n      \"column\": \"exang\",\n      \"properties\": {\n        \"dtype\": \"number\",\n        \"std\": 0.49224391629364916,\n        \"min\": 0.0,\n        \"max\": 1.0,\n        \"num_unique_values\": 2,\n        \"samples\": [\n          0.0,\n          1.0\n        ],\n        \"semantic_type\": \"\",\n        \"description\": \"\"\n      }\n    },\n    {\n      \"column\": \"oldpeak\",\n      \"properties\": {\n        \"dtype\": \"number\",\n        \"std\": 0.9949407624291176,\n        \"min\": -0.7,\n        \"max\": 4.0,\n        \"num_unique_values\": 26,\n        \"samples\": [\n          2.0,\n          4.0\n        ],\n        \"semantic_type\": \"\",\n        \"description\": \"\"\n      }\n    },\n    {\n      \"column\": \"slope\",\n      \"properties\": {\n        \"dtype\": \"number\",\n        \"std\": 0.6251216061890064,\n        \"min\": 1.0,\n        \"max\": 3.0,\n        \"num_unique_values\": 3,\n        \"samples\": [\n          3.0,\n          1.0\n        ],\n        \"semantic_type\": \"\",\n        \"description\": \"\"\n      }\n    },\n    {\n      \"column\": \"ca\",\n      \"properties\": {\n        \"dtype\": \"number\",\n        \"std\": 1.4268983709567271,\n        \"min\": 0.0,\n        \"max\": 9.0,\n        \"num_unique_values\": 5,\n        \"samples\": [\n          1.0,\n          9.0\n        ],\n        \"semantic_type\": \"\",\n        \"description\": \"\"\n      }\n    },\n    {\n      \"column\": \"thal\",\n      \"properties\": {\n        \"dtype\": \"number\",\n        \"std\": 1.9248129943688397,\n        \"min\": 3.0,\n        \"max\": 7.0,\n        \"num_unique_values\": 3,\n        \"samples\": [\n          3.0,\n          6.0\n        ],\n        \"semantic_type\": \"\",\n        \"description\": \"\"\n      }\n    }\n  ]\n}"
            }
          },
          "metadata": {},
          "execution_count": 22
        }
      ]
    },
    {
      "cell_type": "code",
      "source": [
        "# Convertir columnas específicas a tipo categórico\n",
        "categorical_columns = ['sex', 'cp', 'fbs', 'restecg', 'exang', 'slope', 'ca', 'thal']\n",
        "\n",
        "# Convertir a tipo categórico\n",
        "for col in categorical_columns:\n",
        "    data_test[col] = data_test[col].astype('category')\n",
        "\n",
        "# Verificar los cambios\n",
        "data_test.info()"
      ],
      "metadata": {
        "colab": {
          "base_uri": "https://localhost:8080/"
        },
        "id": "OfS1kiXT1tRQ",
        "outputId": "73946060-3dfd-4ba6-d1ff-9502f9fdfbd9"
      },
      "execution_count": 23,
      "outputs": [
        {
          "output_type": "stream",
          "name": "stdout",
          "text": [
            "<class 'pandas.core.frame.DataFrame'>\n",
            "RangeIndex: 184 entries, 0 to 183\n",
            "Data columns (total 13 columns):\n",
            " #   Column    Non-Null Count  Dtype   \n",
            "---  ------    --------------  -----   \n",
            " 0   age       184 non-null    float64 \n",
            " 1   sex       184 non-null    category\n",
            " 2   cp        184 non-null    category\n",
            " 3   trestbps  172 non-null    float64 \n",
            " 4   chol      139 non-null    float64 \n",
            " 5   fbs       161 non-null    category\n",
            " 6   restecg   182 non-null    category\n",
            " 7   thalach   173 non-null    float64 \n",
            " 8   exang     173 non-null    category\n",
            " 9   oldpeak   171 non-null    float64 \n",
            " 10  slope     123 non-null    category\n",
            " 11  ca        56 non-null     category\n",
            " 12  thal      80 non-null     category\n",
            "dtypes: category(8), float64(5)\n",
            "memory usage: 9.9 KB\n"
          ]
        }
      ]
    },
    {
      "cell_type": "code",
      "source": [
        "# Calcular la moda de la columna 'ca'\n",
        "moda_ca = data_test['ca'].mode()[0]\n",
        "\n",
        "# Reemplazar los valores 9 en la columna 'ca' con la moda\n",
        "data_test['ca'] = data_test['ca'].replace(9, moda_ca)\n",
        "\n",
        "# Verificar el resultado\n",
        "print(data_test['ca'].unique())"
      ],
      "metadata": {
        "colab": {
          "base_uri": "https://localhost:8080/"
        },
        "id": "peE1Fk8i1tx0",
        "outputId": "c8e4693e-411b-4a8c-db6e-5b6637093830"
      },
      "execution_count": 24,
      "outputs": [
        {
          "output_type": "stream",
          "name": "stdout",
          "text": [
            "[NaN, 0.0, 1.0, 3.0, 2.0]\n",
            "Categories (4, float64): [0.0, 1.0, 2.0, 3.0]\n"
          ]
        },
        {
          "output_type": "stream",
          "name": "stderr",
          "text": [
            "<ipython-input-24-3ca914b90a48>:5: FutureWarning: The behavior of Series.replace (and DataFrame.replace) with CategoricalDtype is deprecated. In a future version, replace will only be used for cases that preserve the categories. To change the categories, use ser.cat.rename_categories instead.\n",
            "  data_test['ca'] = data_test['ca'].replace(9, moda_ca)\n"
          ]
        }
      ]
    },
    {
      "cell_type": "code",
      "source": [
        "# Contar los valores '?' y '-9' y '0' por separado en cada columna\n",
        "count_question_marks = (data_test == '?').sum()\n",
        "count_minus_nine = ((data_test == -9.0) | (data_test == '-9.0') | (data_test == '9.0') | (data_test == 9.0)).sum()  # Se compara tanto con -9 como con '-9.0' como texto\n",
        "count_0 =  ((data_test == 0) | (data_test == '0')).sum()  # Se compara tanto con -9 como con '-9.0' como texto\n",
        "\n",
        "# Crear un DataFrame con los resultados\n",
        "count_table = pd.DataFrame({\n",
        "    'Cuenta de \"?\":': count_question_marks,\n",
        "    'Cuenta de \"-9\":': count_minus_nine,\n",
        "    'Cuenta de \"0\"': count_0\n",
        "})\n",
        "\n",
        "# Mostrar la tabla\n",
        "print(count_table)"
      ],
      "metadata": {
        "colab": {
          "base_uri": "https://localhost:8080/"
        },
        "id": "8gScM3Y11vxw",
        "outputId": "647407d7-57c0-43dd-988e-b25943f490e7"
      },
      "execution_count": 25,
      "outputs": [
        {
          "output_type": "stream",
          "name": "stdout",
          "text": [
            "          Cuenta de \"?\":  Cuenta de \"-9\":  Cuenta de \"0\"\n",
            "age                    0                0              0\n",
            "sex                    0                0             40\n",
            "cp                     0                0              0\n",
            "trestbps               0                0              0\n",
            "chol                   0                0              0\n",
            "fbs                    0                0            136\n",
            "restecg                0                0            110\n",
            "thalach                0                0              0\n",
            "exang                  0                0            103\n",
            "oldpeak                0                0             72\n",
            "slope                  0                0              0\n",
            "ca                     0                0             34\n",
            "thal                   0                0              0\n"
          ]
        }
      ]
    },
    {
      "cell_type": "code",
      "source": [
        "# RELLENAMOS NUMERICOS CON MEDIA O CATEGORICOS CON MEDIANA\n",
        "\n",
        "# Rellenar NaN en columnas de tipo float con la media\n",
        "for col in data_test.select_dtypes(include=['float']):\n",
        "    data_test[col] = data_test[col].fillna(data_test[col].mean())\n",
        "\n",
        "# Rellenar NaN en columnas de tipo category con la moda\n",
        "for col in data_test.select_dtypes(include=['category']):\n",
        "    data_test[col] = data_test[col].fillna(data_test[col].mode()[0])"
      ],
      "metadata": {
        "id": "6_2CjICa10v1"
      },
      "execution_count": 26,
      "outputs": []
    },
    {
      "cell_type": "code",
      "source": [
        "# Obtener los valores únicos de cada columna\n",
        "for column in data_test.columns:\n",
        "    print(f\"Valores únicos en la columna '{column}':\")\n",
        "    print(data_test[column].unique())\n",
        "    print()  # Línea en blanco para separar cada columna"
      ],
      "metadata": {
        "colab": {
          "base_uri": "https://localhost:8080/"
        },
        "id": "vVK0_-lp126w",
        "outputId": "8f227d03-becc-4ecc-93ba-9dc2ed8acbcf"
      },
      "execution_count": 27,
      "outputs": [
        {
          "output_type": "stream",
          "name": "stdout",
          "text": [
            "Valores únicos en la columna 'age':\n",
            "[57. 52. 48. 62. 51. 54. 45. 64. 70. 32. 55. 60. 38. 50. 74. 72. 65. 67.\n",
            " 77. 33. 56. 44. 47. 68. 39. 59. 58. 61. 46. 53. 40. 34. 63. 35. 42. 43.\n",
            " 66. 71. 69. 37. 29.]\n",
            "\n",
            "Valores únicos en la columna 'sex':\n",
            "[1.0, 0.0]\n",
            "Categories (2, float64): [0.0, 1.0]\n",
            "\n",
            "Valores únicos en la columna 'cp':\n",
            "[4.0, 2.0, 3.0, 1.0]\n",
            "Categories (4, float64): [1.0, 2.0, 3.0, 4.0]\n",
            "\n",
            "Valores únicos en la columna 'trestbps':\n",
            "[156.         160.         100.         115.         110.\n",
            " 130.         125.         140.         120.         144.\n",
            " 155.          95.         150.         124.         132.80813953\n",
            " 118.         129.         128.         152.         145.\n",
            "  80.         106.         101.         108.         142.\n",
            " 105.         154.         200.         138.         126.\n",
            " 158.         102.         132.         180.         136.\n",
            " 112.         170.         122.         135.        ]\n",
            "\n",
            "Valores únicos en la columna 'chol':\n",
            "[173.         196.         246.58273381 175.         201.\n",
            " 258.         254.         295.         238.         220.\n",
            " 349.         310.         275.         219.         244.\n",
            " 171.         298.         256.         230.         239.\n",
            " 288.         181.         284.         263.         228.\n",
            " 188.         255.         221.         308.         304.\n",
            " 257.         212.         231.         211.         237.\n",
            " 240.         202.         274.         215.         277.\n",
            " 197.         218.         156.         267.         407.\n",
            " 195.         204.         183.         358.         271.\n",
            " 264.         226.         311.         268.         246.\n",
            " 369.         303.         270.         300.         248.\n",
            " 166.         206.         210.         192.         392.\n",
            " 227.         213.         247.         214.         393.\n",
            " 164.         394.         305.         306.         253.\n",
            " 290.         236.         190.         160.         353.\n",
            " 289.         149.         187.         337.         276.\n",
            " 224.         269.         209.         216.         260.\n",
            " 234.         242.         315.         245.         273.\n",
            " 198.         203.        ]\n",
            "\n",
            "Valores únicos en la columna 'fbs':\n",
            "[0.0, 1.0]\n",
            "Categories (2, float64): [0.0, 1.0]\n",
            "\n",
            "Valores únicos en la columna 'restecg':\n",
            "[2.0, 0.0, 1.0]\n",
            "Categories (3, float64): [0.0, 1.0, 2.0]\n",
            "\n",
            "Valores únicos en la columna 'thalach':\n",
            "[119.         165.         100.         128.         123.\n",
            " 163.         138.         130.          92.         155.\n",
            " 136.         141.         118.         134.         156.\n",
            " 120.         112.         115.         122.          82.\n",
            " 154.         139.         110.         185.         149.\n",
            " 124.         160.         150.         135.15028902 140.\n",
            " 174.         158.         161.         137.         114.\n",
            " 164.         162.         135.         125.         132.\n",
            " 113.         188.         170.          80.          88.\n",
            "  86.         180.         167.         177.         172.\n",
            " 182.         152.          98.         168.         148.\n",
            "  97.         181.         144.          67.         145.\n",
            "  71.          99.         143.         108.          87.\n",
            " 153.         105.         166.          94.         173.\n",
            "  84.         111.         175.          96.          91.\n",
            " 171.         157.         121.         146.         117.\n",
            " 142.         159.        ]\n",
            "\n",
            "Valores únicos en la columna 'exang':\n",
            "[1.0, 0.0]\n",
            "Categories (2, float64): [0.0, 1.0]\n",
            "\n",
            "Valores únicos en la columna 'oldpeak':\n",
            "[ 3.          0.          2.5         0.6        -0.1         2.8\n",
            "  1.          1.5         2.          0.85438596  1.4         0.2\n",
            "  0.5         1.2         1.6        -0.7         0.1         4.\n",
            "  3.6         2.4         0.4         1.3         0.7         0.8\n",
            "  1.1         1.9         1.8       ]\n",
            "\n",
            "Valores únicos en la columna 'slope':\n",
            "[3.0, 2.0, 1.0]\n",
            "Categories (3, float64): [1.0, 2.0, 3.0]\n",
            "\n",
            "Valores únicos en la columna 'ca':\n",
            "[0.0, 1.0, 3.0, 2.0]\n",
            "Categories (4, float64): [0.0, 1.0, 2.0, 3.0]\n",
            "\n",
            "Valores únicos en la columna 'thal':\n",
            "[3.0, 6.0, 7.0]\n",
            "Categories (3, float64): [3.0, 6.0, 7.0]\n",
            "\n"
          ]
        }
      ]
    },
    {
      "cell_type": "markdown",
      "source": [
        "PASAMOS TODAS LAS CATEGORICAS A ONE HOT ENCODING\n",
        "\n",
        "---\n"
      ],
      "metadata": {
        "id": "ivR6TIVf2JQ0"
      }
    },
    {
      "cell_type": "code",
      "source": [
        "import pandas as pd\n",
        "\n",
        "# Lista de columnas categóricas\n",
        "categorical_columns = ['sex', 'cp', 'fbs', 'restecg', 'exang', 'slope', 'ca', 'thal']\n",
        "\n",
        "# Aplicar One-Hot Encoding asegurando que los valores sean 0 y 1 (int)\n",
        "data_test = pd.get_dummies(data_test, columns=categorical_columns, drop_first=True, dtype=int)\n",
        "\n",
        "# Mostrar el resultado\n",
        "print(data_test.head())"
      ],
      "metadata": {
        "colab": {
          "base_uri": "https://localhost:8080/"
        },
        "outputId": "e6323ceb-9e31-42a3-a05f-1f6492ddb4bc",
        "id": "JUiO7YW82JQ0"
      },
      "execution_count": 28,
      "outputs": [
        {
          "output_type": "stream",
          "name": "stdout",
          "text": [
            "    age  trestbps        chol  thalach  oldpeak  sex_1.0  cp_2.0  cp_3.0  \\\n",
            "0  57.0     156.0  173.000000    119.0      3.0        1       0       0   \n",
            "1  52.0     160.0  196.000000    165.0      0.0        1       1       0   \n",
            "2  48.0     100.0  246.582734    100.0      0.0        1       1       0   \n",
            "3  62.0     115.0  246.582734    128.0      2.5        1       0       0   \n",
            "4  51.0     110.0  175.000000    123.0      0.6        1       0       1   \n",
            "\n",
            "   cp_4.0  fbs_1.0  restecg_1.0  restecg_2.0  exang_1.0  slope_2.0  slope_3.0  \\\n",
            "0       1        0            0            1          1          0          1   \n",
            "1       0        0            0            0          0          1          0   \n",
            "2       0        0            0            0          0          1          0   \n",
            "3       1        0            0            0          1          0          1   \n",
            "4       0        0            0            0          0          0          0   \n",
            "\n",
            "   ca_1.0  ca_2.0  ca_3.0  thal_6.0  thal_7.0  \n",
            "0       0       0       0         0         0  \n",
            "1       0       0       0         0         0  \n",
            "2       0       0       0         0         0  \n",
            "3       0       0       0         0         0  \n",
            "4       0       0       0         0         0  \n"
          ]
        }
      ]
    },
    {
      "cell_type": "markdown",
      "source": [
        "NORMALIZAMOS AHORA LAS VARIABLES NUMERICAS\n",
        "\n",
        "---\n",
        "\n"
      ],
      "metadata": {
        "id": "fh-mtH2Q2SOK"
      }
    },
    {
      "cell_type": "code",
      "source": [
        "from sklearn.preprocessing import StandardScaler\n",
        "# Normalizar las características\n",
        "scaler = StandardScaler()\n",
        "X_test = scaler.fit_transform(data_test)"
      ],
      "metadata": {
        "id": "rLkikW7L2SOL"
      },
      "execution_count": 29,
      "outputs": []
    },
    {
      "cell_type": "code",
      "source": [
        "X_test[0]"
      ],
      "metadata": {
        "colab": {
          "base_uri": "https://localhost:8080/"
        },
        "outputId": "3ad4caf7-4c46-4a9e-a1df-7331dba15800",
        "id": "4MElufB02SOM"
      },
      "execution_count": 30,
      "outputs": [
        {
          "output_type": "execute_result",
          "data": {
            "text/plain": [
              "array([ 0.29014836,  1.29930679, -1.61933028, -0.64794676,  2.24356589,\n",
              "        0.52704628, -0.48466414, -0.49319696,  0.87705802, -0.39652579,\n",
              "       -0.46748588,  1.92819831,  1.27615494, -1.51185789,  3.7859389 ,\n",
              "       -0.2757234 , -0.18359702, -0.12874232, -0.22677868, -0.45883147])"
            ]
          },
          "metadata": {},
          "execution_count": 30
        }
      ]
    },
    {
      "cell_type": "code",
      "source": [
        "y_test= rf_model.predict(X_test)\n",
        "# print(\"Informe de Clasificación:\\n\", classification_report(y_test, y_pred))\n",
        "# print(\"Matriz de Confusión:\\n\", confusion_matrix(y_test, y_pred))\n",
        "# print(\"ROC AUC:\", roc_auc_score(y_test, y_pred))\n",
        "len(y_test)"
      ],
      "metadata": {
        "colab": {
          "base_uri": "https://localhost:8080/"
        },
        "id": "C_Lwatft7EeV",
        "outputId": "341279a2-0ca9-4e62-aaa3-e430f4b3063d"
      },
      "execution_count": 33,
      "outputs": [
        {
          "output_type": "execute_result",
          "data": {
            "text/plain": [
              "184"
            ]
          },
          "metadata": {},
          "execution_count": 33
        }
      ]
    }
  ]
}